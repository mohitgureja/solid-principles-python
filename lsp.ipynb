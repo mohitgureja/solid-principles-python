{
 "cells": [
  {
   "metadata": {},
   "cell_type": "markdown",
   "source": [
    "# Liskov Substitution principle\n",
    "\n",
    "The Liskov Substitution Principle (LSP) states that objects of a superclass should be replaceable with objects of a subclass without altering the correctness of the program. It ensures that a subclass behaves in such a way that it can seamlessly substitute for its parent class.\n",
    "\n",
    "**PaymentProcessor** and its derived classes before using liskov substitution principle.\n"
   ],
   "id": "fc62b897ef745126"
  },
  {
   "metadata": {
    "ExecuteTime": {
     "end_time": "2025-02-28T10:38:47.297702Z",
     "start_time": "2025-02-28T10:38:47.286857Z"
    }
   },
   "cell_type": "code",
   "source": [
    "from abc import ABC, abstractmethod\n",
    "\n",
    "\n",
    "class Order:\n",
    "    def __init__(self):\n",
    "        self.items = []\n",
    "        self.quantities = []\n",
    "        self.prices = []\n",
    "        self.status = \"open\"\n",
    "\n",
    "    def add_item(self, name: str, quantity: int, price: float) -> None:\n",
    "        self.items.append(name)\n",
    "        self.quantities.append(quantity)\n",
    "        self.prices.append(price)\n",
    "\n",
    "    def total_price(self):\n",
    "        total = 0\n",
    "        for quantity, price in zip(self.quantities, self.prices):\n",
    "            total += quantity * price\n",
    "        return total\n",
    "\n",
    "\n",
    "class PaymentProcessor(ABC):\n",
    "\n",
    "    @abstractmethod\n",
    "    def pay(self, order, security_code):\n",
    "        pass\n",
    "\n",
    "\n",
    "class DebitCardPaymentProcessor(PaymentProcessor):\n",
    "\n",
    "    def pay(self, order, security_code):\n",
    "        print(\"Processing credit card payment\")\n",
    "        print(f\"Verifying security code: {security_code}\")\n",
    "        order.status = \"paid\"\n",
    "\n",
    "\n",
    "class CreditCardPaymentProcessor(PaymentProcessor):\n",
    "\n",
    "    def pay(self, order, security_code):\n",
    "        print(\"Processing credit card payment\")\n",
    "        print(f\"Verifying security code: {security_code}\")\n",
    "        order.status = \"paid\"\n",
    "\n",
    "\n",
    "class PaypalPaymentProcessor(PaymentProcessor):\n",
    "\n",
    "    def pay(self, order, security_code):\n",
    "        print(\"Processing paypal payment\")\n",
    "        print(f\"Verifying security code: {security_code}\")\n",
    "        order.status = \"paid\"\n",
    "\n",
    "\n",
    "order = Order()\n",
    "\n",
    "order.add_item(\"Keyboard\", 1, 50)\n",
    "order.add_item(\"SSD\", 1, 150)\n",
    "order.add_item(\"USB cable\", 2, 5)\n",
    "\n",
    "processor = CreditCardPaymentProcessor()\n",
    "processor.pay(order, \"0372846\")\n",
    "print(order.total_price(), order.status)\n",
    "order.add_item(\"Mouse\", 1, 100)\n",
    "paypal_processor = PaypalPaymentProcessor()\n",
    "paypal_processor.pay(order, \"567385\")\n",
    "print(order.total_price(), order.status)"
   ],
   "id": "18cb0b5d2b6812ae",
   "outputs": [
    {
     "name": "stdout",
     "output_type": "stream",
     "text": [
      "Processing credit card payment\n",
      "Verifying security code: 0372846\n",
      "210 paid\n",
      "Processing paypal payment\n",
      "Verifying security code: 567385\n",
      "310 paid\n"
     ]
    }
   ],
   "execution_count": 1
  },
  {
   "metadata": {},
   "cell_type": "markdown",
   "source": [
    "In our refactoring, we have introduced a new violation of *SOLID* principles. **Paypal** uses *email addresses* for verification, whereas credit and debit cards use security codes. This means we are abusing the Liskov Substitution Principle because we are using a subclass in a way that is not compatible with its parent class.\n",
    "\n",
    "Let's refactor this code to adhere to the LSP"
   ],
   "id": "7cd916d45e6662a6"
  },
  {
   "metadata": {
    "ExecuteTime": {
     "end_time": "2025-02-28T10:43:10.174797Z",
     "start_time": "2025-02-28T10:43:10.164739Z"
    }
   },
   "cell_type": "code",
   "source": [
    "from abc import ABC, abstractmethod\n",
    "\n",
    "\n",
    "class Order:\n",
    "    def __init__(self):\n",
    "        self.items = []\n",
    "        self.quantities = []\n",
    "        self.prices = []\n",
    "        self.status = \"open\"\n",
    "\n",
    "    def add_item(self, name: str, quantity: int, price: float) -> None:\n",
    "        self.items.append(name)\n",
    "        self.quantities.append(quantity)\n",
    "        self.prices.append(price)\n",
    "\n",
    "    def total_price(self):\n",
    "        total = 0\n",
    "        for quantity, price in zip(self.quantities, self.prices):\n",
    "            total += quantity * price\n",
    "        return total\n",
    "\n",
    "\n",
    "class PaymentProcessor(ABC):\n",
    "\n",
    "    @abstractmethod\n",
    "    def pay(self, order):\n",
    "        pass\n",
    "\n",
    "\n",
    "class DebitCardPaymentProcessor(PaymentProcessor):\n",
    "\n",
    "    def __init__(self, security_code):\n",
    "        self.security_code = security_code\n",
    "\n",
    "    def pay(self, order):\n",
    "        print(\"Processing credit card payment\")\n",
    "        print(f\"Verifying security code: {self.security_code}\")\n",
    "        order.status = \"paid\"\n",
    "\n",
    "\n",
    "class CreditCardPaymentProcessor(PaymentProcessor):\n",
    "\n",
    "    def __init__(self, security_code):\n",
    "        self.security_code = security_code\n",
    "\n",
    "    def pay(self, order):\n",
    "        print(\"Processing credit card payment\")\n",
    "        print(f\"Verifying security code: {self.security_code}\")\n",
    "        order.status = \"paid\"\n",
    "\n",
    "\n",
    "class PaypalPaymentProcessor(PaymentProcessor):\n",
    "\n",
    "    def __init__(self, email_address):\n",
    "        self.email_address = email_address\n",
    "\n",
    "    def pay(self, order):\n",
    "        print(\"Processing paypal payment\")\n",
    "        print(f\"Verifying Email Address: {self.email_address}\")\n",
    "        order.status = \"paid\"\n",
    "\n",
    "\n",
    "order = Order()\n",
    "\n",
    "order.add_item(\"Keyboard\", 1, 50)\n",
    "order.add_item(\"SSD\", 1, 150)\n",
    "order.add_item(\"USB cable\", 2, 5)\n",
    "\n",
    "processor = CreditCardPaymentProcessor(\"0372846\")\n",
    "processor.pay(order)\n",
    "print(order.total_price(), order.status)\n",
    "order.add_item(\"Mouse\", 1, 100)\n",
    "paypal_processor = PaypalPaymentProcessor(\"mohit.gureja@paypal.com\")\n",
    "paypal_processor.pay(order)\n",
    "print(order.total_price(), order.status)"
   ],
   "id": "262aa178e1562b8c",
   "outputs": [
    {
     "name": "stdout",
     "output_type": "stream",
     "text": [
      "Processing credit card payment\n",
      "Verifying security code: 0372846\n",
      "210 paid\n",
      "Processing paypal payment\n",
      "Verifying Email Address: mohit.gureja@paypal.com\n",
      "310 paid\n"
     ]
    }
   ],
   "execution_count": 6
  },
  {
   "metadata": {},
   "cell_type": "markdown",
   "source": "Now the code adheres to the LSP because we are using the subclasses in a way that is compatible with their parent class",
   "id": "4da70b42f1a8de08"
  },
  {
   "metadata": {},
   "cell_type": "code",
   "outputs": [],
   "execution_count": null,
   "source": "",
   "id": "5967d2af0792e287"
  }
 ],
 "metadata": {
  "kernelspec": {
   "display_name": "Python 3",
   "language": "python",
   "name": "python3"
  },
  "language_info": {
   "codemirror_mode": {
    "name": "ipython",
    "version": 2
   },
   "file_extension": ".py",
   "mimetype": "text/x-python",
   "name": "python",
   "nbconvert_exporter": "python",
   "pygments_lexer": "ipython2",
   "version": "2.7.6"
  }
 },
 "nbformat": 4,
 "nbformat_minor": 5
}
