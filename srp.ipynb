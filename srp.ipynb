{
 "cells": [
  {
   "metadata": {},
   "cell_type": "markdown",
   "source": "# Single Responsibility Principal",
   "id": "4cf7e99dec11eebb"
  },
  {
   "metadata": {},
   "cell_type": "markdown",
   "source": [
    "**Order** class before using SRP.\\\n",
    "Methods like *add_item*, and *total_price* makes sense for an Order class\n",
    "but *payment* should not be part of this order because it should not open for further extension such as addition of payments from different methods.\n"
   ],
   "id": "ead69a7784fad8fc"
  },
  {
   "metadata": {
    "ExecuteTime": {
     "end_time": "2025-02-27T14:12:42.595845Z",
     "start_time": "2025-02-27T14:12:42.585392Z"
    }
   },
   "cell_type": "code",
   "source": [
    "\n",
    "class Order:\n",
    "    \"\"\"\n",
    "    Order Class before using Single Responsibility Principal\n",
    "    \"\"\"\n",
    "\n",
    "    def __init__(self):\n",
    "        self.items = []\n",
    "        self.quantities = []\n",
    "        self.prices = []\n",
    "        self.status = \"open\"\n",
    "\n",
    "    def add_item(self, name: str, quantity: int, price: float) -> None:\n",
    "        self.items.append(name)\n",
    "        self.quantities.append(quantity)\n",
    "        self.prices.append(price)\n",
    "\n",
    "    def total_price(self):\n",
    "        total = 0\n",
    "        for quantity, price in zip(self.quantities, self.prices):\n",
    "            total += quantity * price\n",
    "        return total\n",
    "\n",
    "    def pay(self, payment_type: str, security_code):\n",
    "        if payment_type == \"debit\":\n",
    "            print(\"Processing debit payment type\")\n",
    "            print(f\"Verifying security code: {security_code}\")\n",
    "            self.status = \"paid\"\n",
    "        elif payment_type == \"credit\":\n",
    "            print(\"Processing credit payment type\")\n",
    "            print(f\"Verifying security code: {security_code}\")\n",
    "            self.status = \"paid\"\n",
    "        else:\n",
    "            raise Exception(f\"Unknown payment type: {payment_type}\")\n",
    "\n",
    "\n",
    "order = Order()\n",
    "order.add_item(\"Keyboard\", 1, 50)\n",
    "order.add_item(\"SSD\", 1, 150)\n",
    "order.add_item(\"USB cable\", 2, 5)\n",
    "print(order.total_price())\n",
    "order.pay(\"debit\", \"0372846\")\n",
    "\n"
   ],
   "id": "939597da653dc788",
   "outputs": [
    {
     "name": "stdout",
     "output_type": "stream",
     "text": [
      "210\n",
      "Processing debit payment type\n",
      "Verifying security code: 0372846\n"
     ]
    }
   ],
   "execution_count": 4
  },
  {
   "metadata": {},
   "cell_type": "markdown",
   "source": [
    "This code violates the SRP because it is both responsible for managing the order and the payment. This results in our code being highly coupled and makes itharder to understand, maintain, and test.\n",
    "\n",
    "Let’s refactor this code to adhere to the SRP."
   ],
   "id": "10ca8695b38710d6"
  },
  {
   "metadata": {},
   "cell_type": "markdown",
   "source": "**Payments** should be a different class in itself, and it should have different methods to *debit* and *credit* the payment. Let's call it **PaymentProcessor**.",
   "id": "563876e772bdac0e"
  },
  {
   "metadata": {
    "ExecuteTime": {
     "end_time": "2025-02-27T14:20:42.187176Z",
     "start_time": "2025-02-27T14:20:42.179128Z"
    }
   },
   "cell_type": "code",
   "source": [
    "class Order:\n",
    "    \"\"\"\n",
    "    Order Class before using Single Responsibility Principal\n",
    "    \"\"\"\n",
    "\n",
    "    def __init__(self):\n",
    "        self.items = []\n",
    "        self.quantities = []\n",
    "        self.prices = []\n",
    "        self.status = \"open\"\n",
    "\n",
    "    def add_item(self, name: str, quantity: int, price: float) -> None:\n",
    "        self.items.append(name)\n",
    "        self.quantities.append(quantity)\n",
    "        self.prices.append(price)\n",
    "\n",
    "    def total_price(self):\n",
    "        total = 0\n",
    "        for quantity, price in zip(self.quantities, self.prices):\n",
    "            total += quantity * price\n",
    "        return total\n",
    "\n",
    "\n",
    "class PaymentProcessor:\n",
    "    \"\"\"\n",
    "    Class for Processing Payments\n",
    "    \"\"\"\n",
    "\n",
    "    def __init__(self):\n",
    "        self.orders = []\n",
    "        self.prices = []\n",
    "        self.status = \"\"\n",
    "        self.security_code = \"\"\n",
    "\n",
    "    def pay_credit(self, order, security_code):\n",
    "        print(\"Processing credit payment type\")\n",
    "        print(f\"Verifying security code: {security_code}\")\n",
    "        order.status = \"paid\"\n",
    "\n",
    "    def pay_debit(self, order, security_code):\n",
    "        print(\"Processing debit payment type\")\n",
    "        print(f\"Verifying security code: {security_code}\")\n",
    "        order.status = \"paid\"\n",
    "\n",
    "\n",
    "order = Order()\n",
    "order.add_item(\"Keyboard\", 1, 50)\n",
    "order.add_item(\"SSD\", 1, 150)\n",
    "order.add_item(\"USB cable\", 2, 5)\n",
    "print(order.total_price())\n",
    "payment = PaymentProcessor()\n",
    "payment.pay_debit(order, \"0372846\")"
   ],
   "id": "c1a3142273936893",
   "outputs": [
    {
     "name": "stdout",
     "output_type": "stream",
     "text": [
      "210\n",
      "Processing debit payment type\n",
      "Verifying security code: 0372846\n"
     ]
    }
   ],
   "execution_count": 6
  },
  {
   "metadata": {},
   "cell_type": "markdown",
   "source": "bitswap, data interpolation, macro definition. My strengths and weaknesses. Why Tesla. Where do you see yourself in 5 years",
   "id": "73f23d45bd1211de"
  },
  {
   "metadata": {},
   "cell_type": "markdown",
   "source": "We are now able to add new methods of payment with ease without having to modify the Order class.",
   "id": "fe0c35ac9d109498"
  }
 ],
 "metadata": {
  "kernelspec": {
   "display_name": "Python 3",
   "language": "python",
   "name": "python3"
  },
  "language_info": {
   "codemirror_mode": {
    "name": "ipython",
    "version": 2
   },
   "file_extension": ".py",
   "mimetype": "text/x-python",
   "name": "python",
   "nbconvert_exporter": "python",
   "pygments_lexer": "ipython2",
   "version": "2.7.6"
  }
 },
 "nbformat": 4,
 "nbformat_minor": 5
}
