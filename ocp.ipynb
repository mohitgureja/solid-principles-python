{
 "cells": [
  {
   "metadata": {},
   "cell_type": "markdown",
   "source": [
    "# Open Responsibility Principle\n",
    "\n",
    "It states that Software Entities should be open for extension but closed for modification.\n",
    "\n",
    "Given below are **Order** and **PaymentProcessor** Class after using Single Responsibility Principal but before Open Responsibility Principal.\n"
   ],
   "id": "5eca46715e773243"
  },
  {
   "metadata": {},
   "cell_type": "code",
   "outputs": [],
   "execution_count": null,
   "source": [
    "class Order:\n",
    "    \"\"\"\n",
    "    Order Class after using Single Responsibility Principal but before Open Responsibility Principal\n",
    "    \"\"\"\n",
    "\n",
    "    def __init__(self):\n",
    "        self.items = []\n",
    "        self.quantities = []\n",
    "        self.prices = []\n",
    "        self.status = \"open\"\n",
    "\n",
    "    def add_item(self, name: str, quantity: int, price: float) -> None:\n",
    "        self.items.append(name)\n",
    "        self.quantities.append(quantity)\n",
    "        self.prices.append(price)\n",
    "\n",
    "    def total_price(self):\n",
    "        total = 0\n",
    "        for quantity, price in zip(self.quantities, self.prices):\n",
    "            total += quantity * price\n",
    "        return total\n",
    "\n",
    "\n",
    "class PaymentProcessor:\n",
    "    \"\"\"\n",
    "    Class for Processing Payments\n",
    "    \"\"\"\n",
    "\n",
    "    def __init__(self):\n",
    "        self.orders = []\n",
    "        self.prices = []\n",
    "        self.status = \"\"\n",
    "        self.security_code = \"\"\n",
    "\n",
    "    def pay_credit(self, order, security_code):\n",
    "        print(\"Processing credit payment type\")\n",
    "        print(f\"Verifying security code: {security_code}\")\n",
    "        order.status = \"paid\"\n",
    "\n",
    "    def pay_debit(self, order, security_code):\n",
    "        print(\"Processing debit payment type\")\n",
    "        print(f\"Verifying security code: {security_code}\")\n",
    "        order.status = \"paid\"\n",
    "\n",
    "\n",
    "order = Order()\n",
    "order.add_item(\"Keyboard\", 1, 50)\n",
    "order.add_item(\"SSD\", 1, 150)\n",
    "order.add_item(\"USB cable\", 2, 5)\n",
    "print(order.total_price())\n",
    "payment = PaymentProcessor()\n",
    "payment.pay_debit(order, \"0372846\")"
   ],
   "id": "fdc72c658791b944"
  },
  {
   "metadata": {},
   "cell_type": "markdown",
   "source": [
    "If we wish to add a new payment method, we would have to make modifications to the PaymentProcessor class. This violates the Open-Closed Principle, which, as we know, states that software entities should be open for extension but closed for modification.\n",
    "\n",
    "Therefore, let's make subclasses and add an abstract method for payments."
   ],
   "id": "25c7819efd2f4f77"
  },
  {
   "metadata": {
    "ExecuteTime": {
     "end_time": "2025-02-27T16:18:07.027725Z",
     "start_time": "2025-02-27T16:18:07.015114Z"
    }
   },
   "cell_type": "code",
   "source": [
    "from abc import ABC, abstractmethod\n",
    "\n",
    "class Order:\n",
    "    def __init__(self):\n",
    "        self.items = []\n",
    "        self.quantities = []\n",
    "        self.prices = []\n",
    "        self.status = \"open\"\n",
    "\n",
    "    def add_item(self, name: str, quantity: int, price: float) -> None:\n",
    "        self.items.append(name)\n",
    "        self.quantities.append(quantity)\n",
    "        self.prices.append(price)\n",
    "\n",
    "    def total_price(self):\n",
    "        total = 0\n",
    "        for quantity, price in zip(self.quantities, self.prices):\n",
    "            total += quantity * price\n",
    "        return total\n",
    "\n",
    "class PaymentProcessor(ABC):\n",
    "\n",
    "    @abstractmethod\n",
    "    def pay(self, order, security_code):\n",
    "        pass\n",
    "\n",
    "class DebitCardPaymentProcessor(PaymentProcessor):\n",
    "\n",
    "    def pay(self, order, security_code):\n",
    "        print(\"Processing credit card payment\")\n",
    "        print(f\"Verifying security code: {security_code}\")\n",
    "        order.status = \"paid\"\n",
    "\n",
    "class CreditCardPaymentProcessor(PaymentProcessor):\n",
    "\n",
    "    def pay(self, order, security_code):\n",
    "        print(\"Processing credit card payment\")\n",
    "        print(f\"Verifying security code: {security_code}\")\n",
    "        order.status = \"paid\"\n",
    "\n",
    "class PaypalPaymentProcessor(PaymentProcessor):\n",
    "\n",
    "    def pay(self, order, security_code):\n",
    "        print(\"Processing paypal payment\")\n",
    "        print(f\"Verifying security code: {security_code}\")\n",
    "        order.status = \"paid\"\n",
    "\n",
    "order = Order()\n",
    "\n",
    "order.add_item(\"Keyboard\", 1, 50)\n",
    "order.add_item(\"SSD\", 1, 150)\n",
    "order.add_item(\"USB cable\", 2, 5)\n",
    "\n",
    "processor = CreditCardPaymentProcessor()\n",
    "processor.pay(order, \"0372846\")\n",
    "print(order.total_price(), order.status)\n",
    "order.add_item(\"Mouse\", 1, 100)\n",
    "paypal_processor = PaypalPaymentProcessor()\n",
    "paypal_processor.pay(order, \"567385\")\n",
    "print(order.total_price(), order.status)\n"
   ],
   "id": "3eef2af97848a33e",
   "outputs": [
    {
     "name": "stdout",
     "output_type": "stream",
     "text": [
      "Processing credit card payment\n",
      "Verifying security code: 0372846\n",
      "210 paid\n",
      "Processing paypal payment\n",
      "Verifying security code: 567385\n",
      "310 paid\n"
     ]
    }
   ],
   "execution_count": 2
  },
  {
   "metadata": {},
   "cell_type": "markdown",
   "source": "Now that the code adheres to the OCP, it’s closed for modification and open for extension because we can add new payment methods without modifying the PaymentProcessor class.",
   "id": "c6b6bfdb776646b0"
  }
 ],
 "metadata": {
  "kernelspec": {
   "display_name": "Python 3",
   "language": "python",
   "name": "python3"
  },
  "language_info": {
   "codemirror_mode": {
    "name": "ipython",
    "version": 2
   },
   "file_extension": ".py",
   "mimetype": "text/x-python",
   "name": "python",
   "nbconvert_exporter": "python",
   "pygments_lexer": "ipython2",
   "version": "2.7.6"
  }
 },
 "nbformat": 4,
 "nbformat_minor": 5
}
